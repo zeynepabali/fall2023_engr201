{
 "cells": [
  {
   "cell_type": "markdown",
   "metadata": {},
   "source": [
    "Before you turn this notebook in, make sure everything runs as expected. First, **restart the kernel** (in the menubar, select Kernel$\\rightarrow$Restart) and then **run all cells** (in the menubar, select Cell$\\rightarrow$Run All).\n",
    "\n",
    "Make sure you fill in any place that says `YOUR CODE HERE`.\n",
    "\n",
    "* You will be filling the parts denoted with \"...\". You do not need to change anything else in the code.\n",
    "* If you see a \"All tests passed!\" message, then you are good to go. If you receive an error, you might need to check your code again.\n",
    "* We are also checking your code with hidden cases! Unless specifically stated, always use the variables given in the function definitions, and **do not** return directly calculated values. These will definitely fail the test cases."
   ]
  },
  {
   "cell_type": "markdown",
   "metadata": {},
   "source": [
    "---"
   ]
  },
  {
   "cell_type": "code",
   "execution_count": null,
   "metadata": {},
   "outputs": [],
   "source": [
    "import math"
   ]
  },
  {
   "cell_type": "markdown",
   "metadata": {},
   "source": [
    "---\n",
    "## Question 1\n",
    "\n",
    "An encryption-decryption system consists of three elements: encode, transmit, and decode. A faulty encode occurs in 0.8% of the messages processed, transmission errors occur in 1% of the messages, and a decode error occurs in 0.1% of the messages. Assume\n",
    "the errors are independent. Round your answers to four decimal places (e.g. 98.7654)."
   ]
  },
  {
   "cell_type": "markdown",
   "metadata": {},
   "source": [
    "### Part A (20 points)\n",
    "\n",
    "What is the probability of a completely defect-free message?"
   ]
  },
  {
   "cell_type": "code",
   "execution_count": null,
   "metadata": {
    "deletable": false,
    "nbgrader": {
     "cell_type": "code",
     "checksum": "c3f6d3c984a154fbd7652206c3065cce",
     "grade": false,
     "grade_id": "cell-5f2518c7755cd892",
     "locked": false,
     "schema_version": 3,
     "solution": true,
     "task": false
    }
   },
   "outputs": [],
   "source": [
    "def q1_A(E, T, D):\n",
    "    '''\n",
    "    Inputs:\n",
    "    E: Percentage of faulty encode \n",
    "    T: Percentage of faulty transmit\n",
    "    D: Percentage of faulty decode\n",
    "    Output:\n",
    "    prob: Probability of defect-free message\n",
    "    '''\n",
    "    # YOUR CODE HERE\n",
    "    prob = ...\n",
    "    \n",
    "    return prob"
   ]
  },
  {
   "cell_type": "code",
   "execution_count": null,
   "metadata": {
    "deletable": false,
    "editable": false,
    "nbgrader": {
     "cell_type": "code",
     "checksum": "80c465922562a2a3f801bd25be154d31",
     "grade": true,
     "grade_id": "cell-d168a51e59343992",
     "locked": true,
     "points": 20,
     "schema_version": 3,
     "solution": false,
     "task": false
    }
   },
   "outputs": [],
   "source": [
    "# DON'T CHANGE THIS CELL!\n",
    "\n",
    "try:\n",
    "    assert math.isclose(q1_A(0.008, 0.01, 0.001), 0.9811, abs_tol=1e-3)\n",
    "    assert math.isclose(q1_A(0.1, 0.02, 0.005), 0.8776, abs_tol=1e-3)\n",
    "    \n",
    "\n",
    "    print(\"All tests passed!\")\n",
    "\n",
    "except AssertionError as e:\n",
    "    print(\"There are failing test cases!\")"
   ]
  },
  {
   "cell_type": "markdown",
   "metadata": {},
   "source": [
    "### Part B (20 points)\n",
    "\n",
    "What is the probability of a message that has either an encode or a decode error?"
   ]
  },
  {
   "cell_type": "code",
   "execution_count": null,
   "metadata": {
    "deletable": false,
    "nbgrader": {
     "cell_type": "code",
     "checksum": "024423fab7d5ce5403f6e9d20accf8ad",
     "grade": false,
     "grade_id": "cell-374954e369b8e5c8",
     "locked": false,
     "schema_version": 3,
     "solution": true,
     "task": false
    }
   },
   "outputs": [],
   "source": [
    "def q1_B(E, T, D):\n",
    "    '''\n",
    "    Inputs:\n",
    "    E: Percentage of faulty encode \n",
    "    T: Percentage of faulty transmit\n",
    "    D: Percentage of faulty decode\n",
    "    Output:\n",
    "    prob: Probability of a message that has either and encode or a decode error\n",
    "    '''\n",
    "    # YOUR CODE HERE\n",
    "    prob = ...\n",
    "    \n",
    "    return prob"
   ]
  },
  {
   "cell_type": "code",
   "execution_count": null,
   "metadata": {
    "deletable": false,
    "editable": false,
    "nbgrader": {
     "cell_type": "code",
     "checksum": "9797c6b414e1c4f1cec837f8797393e9",
     "grade": true,
     "grade_id": "cell-6b43f920ccb3f6ab",
     "locked": true,
     "points": 20,
     "schema_version": 3,
     "solution": false,
     "task": false
    }
   },
   "outputs": [],
   "source": [
    "# DON'T CHANGE THIS CELL!\n",
    "\n",
    "try:\n",
    "    assert math.isclose(q1_B(0.008, 0.01, 0.001), 0.009, abs_tol=1e-3)\n",
    "    assert math.isclose(q1_B(0.1, 0.02, 0.005), 0.1045, abs_tol=1e-3)\n",
    "\n",
    "\n",
    "except AssertionError as e:\n",
    "    print(\"There are failing test cases!\")"
   ]
  },
  {
   "cell_type": "markdown",
   "metadata": {},
   "source": [
    "---\n",
    "\n",
    "## Question 2\n",
    "\n",
    "Barcelona (Barca) football team has won 78% of the games in its recent history. In the games in which Messi played, Barca has won the game in 94% of times. It is also known that Messi has played in 82% of Barca’s games. Using the above information, answer the following question:"
   ]
  },
  {
   "cell_type": "markdown",
   "metadata": {},
   "source": [
    "### Part A (15 points)\n",
    "\n",
    "What is the probability of Messi played in the game and Barca lost?"
   ]
  },
  {
   "cell_type": "code",
   "execution_count": null,
   "metadata": {
    "deletable": false,
    "nbgrader": {
     "cell_type": "code",
     "checksum": "55fb36f73bd69867f3b4cacb8737e8e2",
     "grade": false,
     "grade_id": "cell-71cd3f1d848ddc13",
     "locked": false,
     "schema_version": 3,
     "solution": true,
     "task": false
    }
   },
   "outputs": [],
   "source": [
    "def q2_A(W, M, WM):\n",
    "    '''\n",
    "    Inputs:\n",
    "    W: Percentage of games Barcelona won\n",
    "    M: Percentage of games Messi played\n",
    "    WM: Percentage of games Barcelona won in which Messi played\n",
    "    Output:\n",
    "    prob: Probability of Messi played in the game and Barca lost\n",
    "    '''\n",
    "    # YOUR CODE HERE\n",
    "    prob = ...\n",
    "    \n",
    "    return prob"
   ]
  },
  {
   "cell_type": "code",
   "execution_count": null,
   "metadata": {
    "deletable": false,
    "editable": false,
    "nbgrader": {
     "cell_type": "code",
     "checksum": "732c255360579d5248cf210d0b3fa98a",
     "grade": true,
     "grade_id": "cell-21829b2ccae23071",
     "locked": true,
     "points": 15,
     "schema_version": 3,
     "solution": false,
     "task": false
    }
   },
   "outputs": [],
   "source": [
    "# DON'T CHANGE THIS CELL!\n",
    "\n",
    "try:\n",
    "    assert math.isclose(q2_A(0.78, 0.82, 0.94), 0.0492, abs_tol=1e-3)\n",
    "    assert math.isclose(q2_A(0.1, 0.02, 0.005), 0.0199, abs_tol=1e-3)\n",
    "    \n",
    "\n",
    "except AssertionError as e:\n",
    "    print(\"There are failing test cases!\")"
   ]
  },
  {
   "cell_type": "markdown",
   "metadata": {},
   "source": [
    "### Part B (15 points)\n",
    "\n",
    "What is the probability of Messi didn’t play in the game and Barca won?"
   ]
  },
  {
   "cell_type": "code",
   "execution_count": null,
   "metadata": {
    "deletable": false,
    "nbgrader": {
     "cell_type": "code",
     "checksum": "1e5daed16d7c7362aad8911c21d1ecc1",
     "grade": false,
     "grade_id": "cell-976296c4d694825b",
     "locked": false,
     "schema_version": 3,
     "solution": true,
     "task": false
    }
   },
   "outputs": [],
   "source": [
    "def q2_B(W, M, WM):\n",
    "    '''\n",
    "    Inputs:\n",
    "    W: Percentage of games Barcelona won\n",
    "    M: Percentage of games Messi played\n",
    "    WM: Percentage of games Barcelona won in which Messi played\n",
    "    Output:\n",
    "    prob: Probability of Messi didn’t play in the game and Barca won\n",
    "    '''\n",
    "    # YOUR CODE HERE\n",
    "    W_and_M = ...\n",
    "    prob = ...\n",
    "    \n",
    "    return prob"
   ]
  },
  {
   "cell_type": "code",
   "execution_count": null,
   "metadata": {
    "deletable": false,
    "editable": false,
    "nbgrader": {
     "cell_type": "code",
     "checksum": "8b772624a5dc1dbdf454c4e297a96a8d",
     "grade": true,
     "grade_id": "cell-2f17b7d16feea3db",
     "locked": true,
     "points": 15,
     "schema_version": 3,
     "solution": false,
     "task": false
    }
   },
   "outputs": [],
   "source": [
    "# DON'T CHANGE THIS CELL!\n",
    "\n",
    "try:\n",
    "    assert math.isclose(q2_B(0.78, 0.82, 0.94), 0.0092, abs_tol=1e-3)\n",
    "    assert math.isclose(q2_B(0.1, 0.02, 0.005), 0.0999, abs_tol=1e-3)\n",
    "except AssertionError as e:\n",
    "    print(\"There are failing test cases!\")"
   ]
  },
  {
   "cell_type": "markdown",
   "metadata": {
    "deletable": false,
    "editable": false,
    "nbgrader": {
     "cell_type": "markdown",
     "checksum": "77ab5bd159e76697a1e3e3a5a72a6591",
     "grade": false,
     "grade_id": "cell-f8a4f993bc5a08c5",
     "locked": true,
     "points": 15,
     "schema_version": 3,
     "solution": false,
     "task": true
    }
   },
   "source": [
    "### Part C (15 points - Manual Grading)\n",
    "\n",
    "Draw a probability tree by using the given information.\n",
    "\n",
    "! Upload your drawings to Blackboard as a seperate file."
   ]
  },
  {
   "cell_type": "markdown",
   "metadata": {},
   "source": [
    "### Part D (15 points)\n",
    "\n",
    "You missed Barca’s evening game, but you have just read in the morning paper that Barca could not win the game. What is the probability that Messi did not play in that game?\n",
    "\n",
    "! **Only for this question**, use the values you calculated directly; instead of using variables. Use the values from your probabiltiy tree from Part C."
   ]
  },
  {
   "cell_type": "code",
   "execution_count": null,
   "metadata": {
    "deletable": false,
    "nbgrader": {
     "cell_type": "code",
     "checksum": "3835eb70f855ee92f0c59b6729d091e1",
     "grade": false,
     "grade_id": "cell-5878781fdaefbf94",
     "locked": false,
     "schema_version": 3,
     "solution": true,
     "task": false
    }
   },
   "outputs": [],
   "source": [
    "def q2_D(W, M, WM):\n",
    "    '''\n",
    "    Inputs:\n",
    "    W: Percentage of games Barcelona won\n",
    "    M: Percentage of games Messi played\n",
    "    WM: Percentage of games Barcelona won in which Messi played\n",
    "    Output:\n",
    "    prob: Probability that Messi did not play in that game\n",
    "    '''\n",
    "    # YOUR CODE HERE\n",
    "    prob = ...\n",
    "    \n",
    "    return prob"
   ]
  },
  {
   "cell_type": "code",
   "execution_count": null,
   "metadata": {
    "deletable": false,
    "editable": false,
    "nbgrader": {
     "cell_type": "code",
     "checksum": "dc2cc735ab51fb439beb478a5ee94597",
     "grade": true,
     "grade_id": "cell-82fed84e81bf7c0b",
     "locked": true,
     "points": 15,
     "schema_version": 3,
     "solution": false,
     "task": false
    }
   },
   "outputs": [],
   "source": [
    "# DON'T CHANGE THIS CELL!\n",
    "\n",
    "try:\n",
    "\n",
    "except AssertionError as e:\n",
    "    print(\"There are failing test cases!\")"
   ]
  }
 ],
 "metadata": {
  "kernelspec": {
   "display_name": "Python 3 (ipykernel)",
   "language": "python",
   "name": "python3"
  },
  "language_info": {
   "codemirror_mode": {
    "name": "ipython",
    "version": 3
   },
   "file_extension": ".py",
   "mimetype": "text/x-python",
   "name": "python",
   "nbconvert_exporter": "python",
   "pygments_lexer": "ipython3",
   "version": "3.9.18"
  }
 },
 "nbformat": 4,
 "nbformat_minor": 4
}
